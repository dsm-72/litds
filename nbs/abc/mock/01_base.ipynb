{
 "cells": [
  {
   "attachments": {},
   "cell_type": "markdown",
   "metadata": {},
   "source": [
    "# Dataset Mocks\n",
    "\n",
    "> mocks for dataset"
   ]
  },
  {
   "cell_type": "code",
   "execution_count": null,
   "metadata": {},
   "outputs": [],
   "source": [
    "#| default_exp abc.mock.base"
   ]
  },
  {
   "cell_type": "code",
   "execution_count": null,
   "metadata": {},
   "outputs": [],
   "source": [
    "#| hide\n",
    "from nbdev.showdoc import *"
   ]
  },
  {
   "cell_type": "code",
   "execution_count": null,
   "metadata": {},
   "outputs": [],
   "source": [
    "#| export\n",
    "from dataclasses import dataclass, field, KW_ONLY\n",
    "import pandas as pd, numpy as np\n",
    "from beartype.typing import Optional"
   ]
  },
  {
   "cell_type": "code",
   "execution_count": null,
   "metadata": {},
   "outputs": [],
   "source": [
    "#| export\n",
    "from litds.types import DataFrame\n",
    "from litds.abc.mock.meta import MetaMock"
   ]
  },
  {
   "attachments": {},
   "cell_type": "markdown",
   "metadata": {},
   "source": [
    "## Mock"
   ]
  },
  {
   "attachments": {},
   "cell_type": "markdown",
   "metadata": {},
   "source": [
    "### MockBase"
   ]
  },
  {
   "cell_type": "code",
   "execution_count": null,
   "metadata": {},
   "outputs": [],
   "source": [
    "#| export\n",
    "@dataclass\n",
    "class BaseMock(metaclass=MetaMock):\n",
    "    _: KW_ONLY\n",
    "    \n",
    "    seed: Optional[int] = 3\n",
    "    set_index: Optional[bool] = False\n",
    "\n",
    "    def setup(self) -> DataFrame:\n",
    "        pass\n",
    "\n",
    "    def __post_init__(self):\n",
    "        np.random.seed(self.seed)\n",
    "        df = self.setup()\n",
    "        self.df = df\n",
    "        \n",
    "    def make_col_names(self, n: int, prefix: Optional[str] = 'feature_', suffix: Optional[str] = ''):\n",
    "        return [f'{prefix}{i}{suffix}' for i in range(n)]\n",
    "    \n",
    "    def head(self):\n",
    "        return self.df.head()\n",
    "    \n",
    "    def tail(self):\n",
    "        return self.df.tail()"
   ]
  },
  {
   "cell_type": "code",
   "execution_count": null,
   "metadata": {},
   "outputs": [],
   "source": [
    "#| hide\n",
    "import nbdev; nbdev.nbdev_export()"
   ]
  }
 ],
 "metadata": {
  "kernelspec": {
   "display_name": "python3",
   "language": "python",
   "name": "python3"
  }
 },
 "nbformat": 4,
 "nbformat_minor": 4
}
