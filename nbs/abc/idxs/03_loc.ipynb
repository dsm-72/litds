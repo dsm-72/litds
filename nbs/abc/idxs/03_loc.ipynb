{
 "cells": [
  {
   "attachments": {},
   "cell_type": "markdown",
   "metadata": {},
   "source": [
    "# BaseDataFrameDatasetIndexer\n",
    "\n",
    "> BaseDataFrameDatasetIndexer"
   ]
  },
  {
   "cell_type": "code",
   "execution_count": null,
   "metadata": {},
   "outputs": [],
   "source": [
    "#| default_exp abc.idxs.loc"
   ]
  },
  {
   "cell_type": "code",
   "execution_count": null,
   "metadata": {},
   "outputs": [],
   "source": [
    "#| hide\n",
    "from nbdev.showdoc import *"
   ]
  },
  {
   "cell_type": "code",
   "execution_count": null,
   "metadata": {},
   "outputs": [],
   "source": [
    "#| export\n",
    "from dataclasses import dataclass, field\n",
    "from beartype.typing import (Union, List)\n",
    "\n",
    "import numpy as np\n",
    "\n",
    "from iza.nbs import NotebookLogger"
   ]
  },
  {
   "cell_type": "code",
   "execution_count": null,
   "metadata": {},
   "outputs": [],
   "source": [
    "#| export\n",
    "from litds.abc.idxs.base import BaseDataFrameDatasetIndexer"
   ]
  },
  {
   "cell_type": "code",
   "execution_count": null,
   "metadata": {},
   "outputs": [],
   "source": [
    "#| export\n",
    "logger = NotebookLogger()"
   ]
  },
  {
   "attachments": {},
   "cell_type": "markdown",
   "metadata": {},
   "source": [
    "## DataFrameDatasetLocIndexer"
   ]
  },
  {
   "cell_type": "code",
   "execution_count": null,
   "metadata": {},
   "outputs": [],
   "source": [
    "#| export\n",
    "@dataclass\n",
    "class DataFrameDatasetLocIndexer(BaseDataFrameDatasetIndexer):\n",
    "    \n",
    "    def __getitem__(self, idx: Union[int, slice, List[bool]]) -> List:\n",
    "        arange = np.arange(len(self.index))\n",
    "\n",
    "        try:\n",
    "            # use dataframe loc, but this may give repeated values\n",
    "            idx = self.dataset.df.loc[idx].index\n",
    "            idx = self.index.isin(idx)\n",
    "            iloc = arange[idx]\n",
    "            logger.debug(f\"iloc: {iloc}\")\n",
    "            return self.dataset.__getitem__(iloc)\n",
    "        \n",
    "        except KeyError as err:\n",
    "            pass\n",
    "\n",
    "        try:\n",
    "            idx = self.index.get_loc(idx)\n",
    "            iloc = arange[idx]\n",
    "            logger.debug(f\"iloc: {iloc}\")\n",
    "            return self.dataset.__getitem__(iloc)\n",
    "        \n",
    "        except KeyError as err:\n",
    "            raise err"
   ]
  },
  {
   "cell_type": "code",
   "execution_count": null,
   "metadata": {},
   "outputs": [],
   "source": [
    "#| hide\n",
    "import nbdev; nbdev.nbdev_export()"
   ]
  }
 ],
 "metadata": {
  "kernelspec": {
   "display_name": "python3",
   "language": "python",
   "name": "python3"
  }
 },
 "nbformat": 4,
 "nbformat_minor": 4
}
