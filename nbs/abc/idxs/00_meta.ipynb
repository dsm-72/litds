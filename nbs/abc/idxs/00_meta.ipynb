{
 "cells": [
  {
   "attachments": {},
   "cell_type": "markdown",
   "metadata": {},
   "source": [
    "# MetaDataFrameDatasetIndexer\n",
    "\n",
    "> MetaDataFrameDatasetIndexer"
   ]
  },
  {
   "cell_type": "code",
   "execution_count": null,
   "metadata": {},
   "outputs": [],
   "source": [
    "#| default_exp abc.idxs.meta"
   ]
  },
  {
   "cell_type": "code",
   "execution_count": null,
   "metadata": {},
   "outputs": [],
   "source": [
    "#| hide\n",
    "from nbdev.showdoc import *"
   ]
  },
  {
   "cell_type": "code",
   "execution_count": null,
   "metadata": {},
   "outputs": [],
   "source": [
    "#| export\n",
    "from abc import ABCMeta, abstractmethod\n",
    "from beartype.typing import (Tuple, Union, List, Any)"
   ]
  },
  {
   "cell_type": "code",
   "execution_count": null,
   "metadata": {},
   "outputs": [],
   "source": [
    "#| export\n",
    "from litds.types import IndexLike"
   ]
  },
  {
   "attachments": {},
   "cell_type": "markdown",
   "metadata": {},
   "source": [
    "## MetaDataFrameDatasetIndexer"
   ]
  },
  {
   "cell_type": "code",
   "execution_count": null,
   "metadata": {},
   "outputs": [],
   "source": [
    "#| export\n",
    "class MetaDataFrameDatasetIndexer(ABCMeta): \n",
    "    __args__: Tuple[Any,]\n",
    "\n",
    "    def __instancecheck__(cls, instance):\n",
    "        return hasattr(instance, 'dataset')\n",
    "     \n",
    "    @abstractmethod\n",
    "    def __getitem__(self, idx: Union[int, slice]) -> List:\n",
    "        pass\n",
    "\n",
    "    @abstractmethod\n",
    "    def __iter__(self):\n",
    "        pass\n",
    "\n",
    "    @abstractmethod\n",
    "    def setup(self) -> IndexLike:\n",
    "        '''Should make the index for the dataset.'''\n",
    "        pass"
   ]
  },
  {
   "cell_type": "code",
   "execution_count": null,
   "metadata": {},
   "outputs": [],
   "source": [
    "#| hide\n",
    "import nbdev; nbdev.nbdev_export()"
   ]
  }
 ],
 "metadata": {
  "kernelspec": {
   "display_name": "python3",
   "language": "python",
   "name": "python3"
  }
 },
 "nbformat": 4,
 "nbformat_minor": 4
}
