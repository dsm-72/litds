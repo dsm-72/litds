{
 "cells": [
  {
   "attachments": {},
   "cell_type": "markdown",
   "metadata": {},
   "source": [
    "# Dataset Indexers\n",
    "\n",
    "> Indexers for Dataset"
   ]
  },
  {
   "cell_type": "code",
   "execution_count": null,
   "metadata": {},
   "outputs": [],
   "source": [
    "#| default_exp abc.idxs.__init__"
   ]
  },
  {
   "cell_type": "code",
   "execution_count": null,
   "metadata": {},
   "outputs": [],
   "source": [
    "#| hide\n",
    "from nbdev.showdoc import *"
   ]
  },
  {
   "cell_type": "code",
   "execution_count": null,
   "metadata": {},
   "outputs": [],
   "source": [
    "#| export\n",
    "from litds.abc.idxs.meta import MetaDataFrameDatasetIndexer\n",
    "from litds.abc.idxs.base import BaseDataFrameDatasetIndexer\n",
    "from litds.abc.idxs.loc import DataFrameDatasetLocIndexer\n",
    "from litds.abc.idxs.iloc import DataFrameDatasetILocIndexer\n",
    "from litds.abc.idxs.cloc import DataFrameDatasetCLocIndexer\n",
    "\n",
    "__all__ = [\n",
    "    'MetaDataFrameDatasetIndexer',\n",
    "    'BaseDataFrameDatasetIndexer',\n",
    "    'DataFrameDatasetLocIndexer',\n",
    "    'DataFrameDatasetILocIndexer',\n",
    "    'DataFrameDatasetCLocIndexer',\n",
    "]"
   ]
  },
  {
   "cell_type": "code",
   "execution_count": null,
   "metadata": {},
   "outputs": [],
   "source": [
    "#| hide\n",
    "import nbdev; nbdev.nbdev_export()"
   ]
  }
 ],
 "metadata": {
  "kernelspec": {
   "display_name": "python3",
   "language": "python",
   "name": "python3"
  }
 },
 "nbformat": 4,
 "nbformat_minor": 4
}
