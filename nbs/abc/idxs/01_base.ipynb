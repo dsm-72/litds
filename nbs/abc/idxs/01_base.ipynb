{
 "cells": [
  {
   "attachments": {},
   "cell_type": "markdown",
   "metadata": {},
   "source": [
    "# BaseDataFrameDatasetIndexer\n",
    "\n",
    "> BaseDataFrameDatasetIndexer"
   ]
  },
  {
   "cell_type": "code",
   "execution_count": null,
   "metadata": {},
   "outputs": [],
   "source": [
    "#| default_exp abc.idxs.base"
   ]
  },
  {
   "cell_type": "code",
   "execution_count": null,
   "metadata": {},
   "outputs": [],
   "source": [
    "#| hide\n",
    "from nbdev.showdoc import *"
   ]
  },
  {
   "cell_type": "code",
   "execution_count": null,
   "metadata": {},
   "outputs": [],
   "source": [
    "#| export\n",
    "from dataclasses import dataclass, field\n",
    "from beartype.typing import (Union, List, Any)"
   ]
  },
  {
   "cell_type": "code",
   "execution_count": null,
   "metadata": {},
   "outputs": [],
   "source": [
    "#| export\n",
    "from litds.types import BoolLike, IndexLike\n",
    "from litds.abc.idxs.meta import MetaDataFrameDatasetIndexer"
   ]
  },
  {
   "attachments": {},
   "cell_type": "markdown",
   "metadata": {},
   "source": [
    "## BaseDataFrameDatasetIndex"
   ]
  },
  {
   "cell_type": "code",
   "execution_count": null,
   "metadata": {},
   "outputs": [],
   "source": [
    "#| export\n",
    "@dataclass\n",
    "class BaseDataFrameDatasetIndexer(metaclass=MetaDataFrameDatasetIndexer):\n",
    "    dataset: Any\n",
    "    \n",
    "    def __init__(self, dataset) -> None:\n",
    "        self.dataset = dataset\n",
    "\n",
    "    def __post_init__(self):\n",
    "        self.index = self.setup()\n",
    "\n",
    "    def setup(self) -> IndexLike:\n",
    "        return self.dataset.index\n",
    "\n",
    "    def __getitem__(self, idx: Union[int, slice]) -> List:\n",
    "        return self.dataset.__getitem__(idx)\n",
    "    \n",
    "    def __len__(self) -> int:\n",
    "        return len(self.index)\n",
    "    \n",
    "    def __iter__(self):\n",
    "        for i in range(len(self)):\n",
    "            yield self[i]\n",
    "\n",
    "    def __setitem__(self, idx: Union[int, slice], value: Any) -> None:\n",
    "        raise NotImplementedError(\"Setting values is not supported.\")\n",
    "\n",
    "    def __delitem__(self, idx: Union[int, slice]) -> None:\n",
    "        raise NotImplementedError(\"Deleting values is not supported.\")"
   ]
  },
  {
   "cell_type": "code",
   "execution_count": null,
   "metadata": {},
   "outputs": [],
   "source": [
    "#| hide\n",
    "import nbdev; nbdev.nbdev_export()"
   ]
  }
 ],
 "metadata": {
  "kernelspec": {
   "display_name": "python3",
   "language": "python",
   "name": "python3"
  }
 },
 "nbformat": 4,
 "nbformat_minor": 4
}
