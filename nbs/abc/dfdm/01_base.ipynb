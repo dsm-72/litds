{
 "cells": [
  {
   "attachments": {},
   "cell_type": "markdown",
   "metadata": {},
   "source": [
    "# Dataset Base and Meta\n",
    "\n",
    "> Base Classes for Datasets"
   ]
  },
  {
   "cell_type": "code",
   "execution_count": null,
   "metadata": {},
   "outputs": [],
   "source": [
    "#| default_exp abc.dfdm.base"
   ]
  },
  {
   "cell_type": "code",
   "execution_count": null,
   "metadata": {},
   "outputs": [],
   "source": [
    "#| hide\n",
    "from nbdev.showdoc import *"
   ]
  },
  {
   "cell_type": "code",
   "execution_count": null,
   "metadata": {},
   "outputs": [],
   "source": [
    "#| export\n",
    "from dataclasses import dataclass, field\n",
    "from beartype.typing import (Any, Optional,  Type)\n",
    "\n",
    "\n",
    "import pytorch_lightning as pl\n",
    "import numpy as np, pandas as pd\n",
    "\n",
    "from iza.utils import (filter_kwargs_for_class)"
   ]
  },
  {
   "cell_type": "code",
   "execution_count": null,
   "metadata": {},
   "outputs": [],
   "source": [
    "#| export\n",
    "from litds.types import BoolLike"
   ]
  },
  {
   "attachments": {},
   "cell_type": "markdown",
   "metadata": {},
   "source": [
    "## DataModules"
   ]
  },
  {
   "cell_type": "code",
   "execution_count": null,
   "metadata": {},
   "outputs": [],
   "source": [
    "#| export\n",
    "from litds.abc.dfdm.meta import MetaDataFrameDataModule\n",
    "from litds.abc.dfds.mixs import DataFrameArgsMixin, DataFrameKWArgsMixins\n",
    "from litds.abc.dfds.base import BaseDataFrameDataset"
   ]
  },
  {
   "cell_type": "code",
   "execution_count": null,
   "metadata": {},
   "outputs": [],
   "source": [
    "#| export\n",
    "@dataclass\n",
    "class BaseDataFrameDataModule(\n",
    "    pl.LightningDataModule, DataFrameArgsMixin, DataFrameKWArgsMixins, \n",
    "    metaclass=MetaDataFrameDataModule\n",
    "): \n",
    "    \n",
    "    DatasetClass: Type[BaseDataFrameDataset] = field(init=False, repr=False, default=BaseDataFrameDataset)\n",
    "        \n",
    "    def __post_init__(self):        \n",
    "        super().__post_init__()        \n",
    "        pass\n",
    "\n",
    "    def prepare_data(self):\n",
    "        pass\n",
    "        return self\n",
    "    \n",
    "    def setup(self, stage: Optional[str]=None):\n",
    "        pass\n",
    "        return self\n",
    "    \n",
    "    def make_dataset(self, **kwargs):\n",
    "        params = self.__kwargs__()\n",
    "        params.update(kwargs)\n",
    "        params = filter_kwargs_for_class(self.DatasetClass, **params)    \n",
    "        return self.DatasetClass(**params)"
   ]
  },
  {
   "cell_type": "code",
   "execution_count": null,
   "metadata": {},
   "outputs": [],
   "source": [
    "#| export\n",
    "def set_dataset(DatasetClass: Any = BaseDataFrameDataset):\n",
    "    def inner(cls):        \n",
    "        cls.DatasetClass = DatasetClass\n",
    "        return cls\n",
    "    return inner"
   ]
  },
  {
   "attachments": {},
   "cell_type": "markdown",
   "metadata": {},
   "source": [
    "### Example"
   ]
  },
  {
   "cell_type": "code",
   "execution_count": null,
   "metadata": {},
   "outputs": [],
   "source": [
    "#| eval: False\n",
    "df = pd.DataFrame(\n",
    "    np.random.randint(0, 10, (10, 3)), \n",
    "    index=np.random.choice('a b c'.split(), 10),\n",
    "    columns='x y z'.split()\n",
    ")\n",
    "df.head()"
   ]
  },
  {
   "cell_type": "code",
   "execution_count": null,
   "metadata": {},
   "outputs": [],
   "source": [
    "#| eval: False\n",
    "@set_dataset(BaseDataFrameDataset)\n",
    "class DFModuleTest(BaseDataFrameDataModule):\n",
    "    pass"
   ]
  },
  {
   "cell_type": "code",
   "execution_count": null,
   "metadata": {},
   "outputs": [],
   "source": [
    "#| eval: False\n",
    "dm = DFModuleTest(df=df)"
   ]
  },
  {
   "cell_type": "code",
   "execution_count": null,
   "metadata": {},
   "outputs": [
    {
     "data": {
      "text/plain": [
       "DataFrameDataModuleTest()"
      ]
     },
     "execution_count": null,
     "metadata": {},
     "output_type": "execute_result"
    }
   ],
   "source": [
    "#| eval: False\n",
    "dm.setup()"
   ]
  },
  {
   "cell_type": "code",
   "execution_count": null,
   "metadata": {},
   "outputs": [],
   "source": [
    "#| eval: False\n",
    "ds = dm.make_dataset()"
   ]
  },
  {
   "cell_type": "code",
   "execution_count": null,
   "metadata": {},
   "outputs": [
    {
     "data": {
      "text/html": [
       "<div>\n",
       "<style scoped>\n",
       "    .dataframe tbody tr th:only-of-type {\n",
       "        vertical-align: middle;\n",
       "    }\n",
       "\n",
       "    .dataframe tbody tr th {\n",
       "        vertical-align: top;\n",
       "    }\n",
       "\n",
       "    .dataframe thead th {\n",
       "        text-align: right;\n",
       "    }\n",
       "</style>\n",
       "<table border=\"1\" class=\"dataframe\">\n",
       "  <thead>\n",
       "    <tr style=\"text-align: right;\">\n",
       "      <th></th>\n",
       "      <th>x</th>\n",
       "      <th>y</th>\n",
       "      <th>z</th>\n",
       "    </tr>\n",
       "  </thead>\n",
       "  <tbody>\n",
       "    <tr>\n",
       "      <th>a</th>\n",
       "      <td>0</td>\n",
       "      <td>9</td>\n",
       "      <td>0</td>\n",
       "    </tr>\n",
       "    <tr>\n",
       "      <th>a</th>\n",
       "      <td>1</td>\n",
       "      <td>3</td>\n",
       "      <td>9</td>\n",
       "    </tr>\n",
       "  </tbody>\n",
       "</table>\n",
       "</div>"
      ],
      "text/plain": [
       "   x  y  z\n",
       "a  0  9  0\n",
       "a  1  3  9"
      ]
     },
     "execution_count": null,
     "metadata": {},
     "output_type": "execute_result"
    }
   ],
   "source": [
    "#| eval: False\n",
    "ds.loc['a']"
   ]
  },
  {
   "cell_type": "code",
   "execution_count": null,
   "metadata": {},
   "outputs": [],
   "source": [
    "#| hide\n",
    "import nbdev; nbdev.nbdev_export()"
   ]
  }
 ],
 "metadata": {
  "kernelspec": {
   "display_name": "python3",
   "language": "python",
   "name": "python3"
  }
 },
 "nbformat": 4,
 "nbformat_minor": 4
}
