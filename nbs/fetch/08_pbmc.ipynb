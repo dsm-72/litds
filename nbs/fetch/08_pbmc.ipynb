{
 "cells": [
  {
   "attachments": {},
   "cell_type": "markdown",
   "metadata": {},
   "source": [
    "# FluentBio PBMC\n",
    "\n",
    "> FluentBio PBMC dataset."
   ]
  },
  {
   "cell_type": "code",
   "execution_count": null,
   "metadata": {},
   "outputs": [],
   "source": [
    "#| default_exp fetch.pbmc"
   ]
  },
  {
   "cell_type": "code",
   "execution_count": null,
   "metadata": {},
   "outputs": [],
   "source": [
    "#| hide\n",
    "%load_ext autoreload\n",
    "%autoreload 2"
   ]
  },
  {
   "cell_type": "code",
   "execution_count": null,
   "metadata": {},
   "outputs": [],
   "source": [
    "#| hide\n",
    "from nbdev.showdoc import *"
   ]
  },
  {
   "cell_type": "code",
   "execution_count": null,
   "metadata": {},
   "outputs": [],
   "source": [
    "#| export\n",
    "import os, sys, json, math, pickle, warnings, itertools\n",
    "import requests, tarfile, gzip, shutil\n",
    "\n",
    "import numpy as np, pandas as pd\n",
    "import torch, torch.nn as nn, pytorch_lightning as pl\n",
    "# import scprep, anndata as ad\n",
    "\n",
    "# import scanpy as sc\n",
    "\n",
    "import phate\n",
    "import matplotlib as mpl, matplotlib.pyplot as plt, seaborn as sns"
   ]
  },
  {
   "cell_type": "code",
   "execution_count": null,
   "metadata": {},
   "outputs": [],
   "source": [
    "#| export\n",
    "from dataclasses import dataclass, field, KW_ONLY\n",
    "\n",
    "from beartype.typing import Optional, Tuple, Union, TypeAlias, Dict, Any, List, ClassVar\n",
    "from nptyping import NDArray, Float, Shape, Number as AnyNumber\n",
    "from beartype import beartype\n",
    "\n",
    "#| export\n",
    "from littyping.core import Device"
   ]
  },
  {
   "cell_type": "code",
   "execution_count": null,
   "metadata": {},
   "outputs": [],
   "source": [
    "#| export\n",
    "from tqdm.auto import tqdm\n",
    "from kuut.core import (kuut, kstep)"
   ]
  },
  {
   "cell_type": "code",
   "execution_count": null,
   "metadata": {},
   "outputs": [],
   "source": [
    "#| export\n",
    "from iza.types import AnnData\n",
    "\n",
    "from iza.utils import (\n",
    "    drop_ext, stream_file, make_missing_dirs,\n",
    "    Directory, FilterMatrixDirectory, \n",
    "    decompress_tarball_of_gunzipped_files\n",
    ")\n",
    "\n",
    "from iza.static import (\n",
    "    EXT_TAR_GZ,  ADATA, MATRIX, FEATURES, BARCODES, SENSITIVITY\n",
    ")\n",
    "LEVEL_SENSITIVITY = 1"
   ]
  },
  {
   "cell_type": "code",
   "execution_count": null,
   "metadata": {},
   "outputs": [],
   "source": [
    "#| export\n",
    "from litds.utils import (random_split_dataframe)\n",
    "from litds.imps import AdataImp"
   ]
  },
  {
   "attachments": {},
   "cell_type": "markdown",
   "metadata": {},
   "source": [
    "## Constants"
   ]
  },
  {
   "cell_type": "code",
   "execution_count": null,
   "metadata": {},
   "outputs": [],
   "source": [
    "#| exporti\n",
    "AMAZON_BUCKET = 'https://fbs-public.s3.us-east-2.amazonaws.com'\n",
    "REPORT_LINK = f'{AMAZON_BUCKET}/public-datasets/pbmc/combined.html'\n",
    "FILTERED_MATRIX_LINK = f'{AMAZON_BUCKET}/public-datasets/pbmc/filtered_matrix.tar.gz'\n",
    "\n",
    "SENSITIVITY_LEVELS = 5\n",
    "\n",
    "SENSITIVITY_DIRS = [f'sensitivity_{i}' for i in range(1, SENSITIVITY_LEVELS + 1)]\n",
    "\n",
    "FILTERED_MATRIX_FILES = (\n",
    "    FilterMatrixDirectory.BARCODES_FILE,\n",
    "    FilterMatrixDirectory.FEATURES_FILE,\n",
    "    FilterMatrixDirectory.MATRIX_FILE\n",
    ")"
   ]
  },
  {
   "attachments": {},
   "cell_type": "markdown",
   "metadata": {},
   "source": [
    "## FluentBio Download"
   ]
  },
  {
   "cell_type": "code",
   "execution_count": null,
   "metadata": {},
   "outputs": [],
   "source": [
    "#| export\n",
    "@dataclass\n",
    "class FluentBioPBMC2023:\n",
    "    data_dir: str = os.path.expanduser('~/Downloads/fluentbio_pbmc')\n",
    " \n",
    "    AMAZON_BUCKET: ClassVar[str] = AMAZON_BUCKET\n",
    "    REPORT_LINK: ClassVar[str] = REPORT_LINK\n",
    "    FILTERED_MATRIX_LINK: ClassVar[str] = FILTERED_MATRIX_LINK\n",
    "    SENSITIVITY_LEVELS: ClassVar[str] = SENSITIVITY_LEVELS\n",
    "    SENSITIVITY_DIRS: ClassVar[List[str]] = SENSITIVITY_DIRS\n",
    "    FILTERED_MATRIX_FILES: ClassVar[Tuple[str]] = FILTERED_MATRIX_FILES\n",
    "\n",
    "    def __post_init__(self):\n",
    "        AdataImp()\n",
    "        make_missing_dirs(self.data_dir)\n",
    "\n",
    "    @property\n",
    "    def report(self):\n",
    "        # NOTE: filter_matrix.tar.gz\n",
    "        uri = self.REPORT_LINK\n",
    "        filename = os.path.basename(uri)\n",
    "        fullpath = os.path.join(self.data_dir, filename)\n",
    "        return fullpath\n",
    "    \n",
    "    @property\n",
    "    def archive_file(self):\n",
    "        # NOTE: filter_matrix.tar.gz\n",
    "        uri = self.FILTERED_MATRIX_LINK\n",
    "        filename = os.path.basename(uri)\n",
    "        fullpath = os.path.join(self.data_dir, filename)\n",
    "        return fullpath\n",
    "    \n",
    "    @property\n",
    "    def archive(self):\n",
    "        # NOTE: filter_matrix        \n",
    "        dirname = drop_ext(self.archive_file, EXT_TAR_GZ)\n",
    "        return dirname\n",
    "\n",
    "    @property\n",
    "    def known_sensitivities(self):\n",
    "        return [i for i in range(1, self.SENSITIVITY_LEVELS + 1)]\n",
    "\n",
    "    @property\n",
    "    def sensitivity_dirs(self):\n",
    "        return [os.path.join(self.archive, dirname) for dirname in self.SENSITIVITY_DIRS]\n",
    "    \n",
    "    def int_to_sensitivity(self, i:int) -> str:\n",
    "        return f'sensitivity_{i}'\n",
    "\n",
    "    def wrangle_sensitivity(self, sensitivity:Union[str, int]) -> str:\n",
    "        if isinstance(sensitivity, int):\n",
    "            return self.int_to_sensitivity(sensitivity)            \n",
    "        return sensitivity\n",
    "\n",
    "    def get_sensitivity_dir(self, sensitivity:Union[str, int]) -> str:\n",
    "        sensitivity = self.wrangle_sensitivity(sensitivity)\n",
    "        return os.path.join(self.archive, sensitivity)\n",
    "\n",
    "    def get_adata_filename(self, sensitivity:Union[str, int]) -> str:\n",
    "        sens_dir = self.get_sensitivity_dir(sensitivity)\n",
    "        sens_dir = FilterMatrixDirectory(sens_dir)\n",
    "        return sens_dir.adata_filename\n",
    "\n",
    "    def get_adata(self, sensitivity:Union[str, int]) -> AnnData:\n",
    "        sens_dir = self.get_sensitivity_dir(sensitivity)\n",
    "        sens_dir = FilterMatrixDirectory(sens_dir)\n",
    "        return sens_dir.get_adata()\n",
    "\n",
    "    @property\n",
    "    def archive_files(self):\n",
    "        return list(map(\n",
    "            lambda e : os.path.join(*e),\n",
    "            itertools.product(\n",
    "                self.sensitivity_dirs,\n",
    "                self.FILTERED_MATRIX_FILES\n",
    "            ))\n",
    "        )\n",
    "\n",
    "    def print_archive_contents(self):\n",
    "        print(Directory(self.archive))\n",
    "\n",
    "    @property\n",
    "    def is_archive_downloaded(self):\n",
    "        return os.path.isfile(self.archive_file) or os.path.isdir(self.archive)\n",
    "\n",
    "    @property\n",
    "    def is_archive_decompressed(self):\n",
    "        return all([os.path.isfile(file) for file in self.archive_files])        \n",
    "    \n",
    "    @property\n",
    "    def is_report_downloaded(self):\n",
    "        return os.path.isfile(self.report)\n",
    "    \n",
    "\n",
    "    def download(self):\n",
    "        uri = self.FILTERED_MATRIX_LINK        \n",
    "        description = 'Downloading FluentBio PBMC filtered matrix'  \n",
    "        if not self.is_archive_downloaded:\n",
    "            stream_file(uri, self.archive_file, description)\n",
    "\n",
    "        uri = self.REPORT_LINK\n",
    "        description = 'Downloading FluentBio PBMC report'\n",
    "        if not self.is_report_downloaded:\n",
    "            stream_file(uri, self.report, description)\n",
    "\n",
    "    def decompress(self):\n",
    "        description = 'Decompressing FluentBio PBMC filtered matrix'  \n",
    "        if not self.is_archive_decompressed:\n",
    "            decompress_tarball_of_gunzipped_files(self.archive_file, description, remove=True)\n",
    "\n",
    "    def make_adata_files(self):\n",
    "        desc = 'PIPSeeker Sensitivities'\n",
    "        for sensitivity_dir in tqdm(self.sensitivity_dirs, desc=desc):\n",
    "            try:\n",
    "                fm_dir = FilterMatrixDirectory(sensitivity_dir)\n",
    "            except Exception:\n",
    "                pass\n",
    "\n",
    "    def prepare(self):\n",
    "        steps = [\n",
    "            'Downloading', 'Decompressing',\n",
    "            'Creating adata files'\n",
    "        ]\n",
    "        \n",
    "        steps = tqdm(steps, desc='FluentBio')        \n",
    "        for step in steps:\n",
    "            steps.set_postfix(stage=step)\n",
    "            match step:\n",
    "                case 'Downloading':\n",
    "                    self.download()\n",
    "                case 'Decompressing':\n",
    "                    self.decompress()\n",
    "                case 'Creating adata files':\n",
    "                    self.make_adata_files()\n",
    "                case _:\n",
    "                    pass\n",
    "    "
   ]
  },
  {
   "cell_type": "code",
   "execution_count": null,
   "metadata": {},
   "outputs": [],
   "source": [
    "#| eval: False\n",
    "data_dir = os.path.expanduser('~/Downloads/fluentbio_pbmc')\n",
    "fb_pmbc = FluentBioPBMC2023(data_dir=data_dir)"
   ]
  },
  {
   "cell_type": "code",
   "execution_count": null,
   "metadata": {},
   "outputs": [
    {
     "data": {
      "application/vnd.jupyter.widget-view+json": {
       "model_id": "2ecc469cae954166839e65bf84a12ec2",
       "version_major": 2,
       "version_minor": 0
      },
      "text/plain": [
       "FluentBio:   0%|          | 0/3 [00:00<?, ?it/s]"
      ]
     },
     "metadata": {},
     "output_type": "display_data"
    },
    {
     "data": {
      "application/vnd.jupyter.widget-view+json": {
       "model_id": "89d38c134a8246f99ef1c91788c11d0c",
       "version_major": 2,
       "version_minor": 0
      },
      "text/plain": [
       "Downloading FluentBio PBMC filtered matrix:   0%|          | 0/215216580 [00:00<?, ?it/s]"
      ]
     },
     "metadata": {},
     "output_type": "display_data"
    },
    {
     "data": {
      "application/vnd.jupyter.widget-view+json": {
       "model_id": "4cbd6c97dfe548a48822f61197333dd0",
       "version_major": 2,
       "version_minor": 0
      },
      "text/plain": [
       "Downloading FluentBio PBMC report:   0%|          | 0/30557798 [00:00<?, ?it/s]"
      ]
     },
     "metadata": {},
     "output_type": "display_data"
    },
    {
     "data": {
      "application/vnd.jupyter.widget-view+json": {
       "model_id": "3db5f18af9734d8980ec7263f07d4cf5",
       "version_major": 2,
       "version_minor": 0
      },
      "text/plain": [
       "Decompressing FluentBio PBMC filtered matrix:   0%|          | 0/15 [00:00<?, ?it/s]"
      ]
     },
     "metadata": {},
     "output_type": "display_data"
    },
    {
     "data": {
      "application/vnd.jupyter.widget-view+json": {
       "model_id": "7b42c6a67e0d41748ec08223fb4776b6",
       "version_major": 2,
       "version_minor": 0
      },
      "text/plain": [
       "PIPSeeker Sensitivities:   0%|          | 0/5 [00:00<?, ?it/s]"
      ]
     },
     "metadata": {},
     "output_type": "display_data"
    },
    {
     "data": {
      "application/vnd.jupyter.widget-view+json": {
       "model_id": "af45ff00a2bc487eb5de3568e86ddfce",
       "version_major": 2,
       "version_minor": 0
      },
      "text/plain": [
       "sensitivity_1:   0%|          | 0/5 [00:00<?, ?it/s]"
      ]
     },
     "metadata": {},
     "output_type": "display_data"
    },
    {
     "data": {
      "application/vnd.jupyter.widget-view+json": {
       "model_id": "04b8f1f3555c4145b16fcdf82ff1a23f",
       "version_major": 2,
       "version_minor": 0
      },
      "text/plain": [
       "sensitivity_2:   0%|          | 0/5 [00:00<?, ?it/s]"
      ]
     },
     "metadata": {},
     "output_type": "display_data"
    },
    {
     "data": {
      "application/vnd.jupyter.widget-view+json": {
       "model_id": "bd57eee1d5054a07a6a2838cccc050a2",
       "version_major": 2,
       "version_minor": 0
      },
      "text/plain": [
       "sensitivity_3:   0%|          | 0/5 [00:00<?, ?it/s]"
      ]
     },
     "metadata": {},
     "output_type": "display_data"
    },
    {
     "data": {
      "application/vnd.jupyter.widget-view+json": {
       "model_id": "ee657eb4b2624baca2d0b699215c22da",
       "version_major": 2,
       "version_minor": 0
      },
      "text/plain": [
       "sensitivity_4:   0%|          | 0/5 [00:00<?, ?it/s]"
      ]
     },
     "metadata": {},
     "output_type": "display_data"
    },
    {
     "data": {
      "application/vnd.jupyter.widget-view+json": {
       "model_id": "5463d0c1682c495eb0aef6d257966fac",
       "version_major": 2,
       "version_minor": 0
      },
      "text/plain": [
       "sensitivity_5:   0%|          | 0/5 [00:00<?, ?it/s]"
      ]
     },
     "metadata": {},
     "output_type": "display_data"
    }
   ],
   "source": [
    "#| eval: False\n",
    "fb_pmbc.prepare()"
   ]
  },
  {
   "attachments": {},
   "cell_type": "markdown",
   "metadata": {},
   "source": [
    "## Archiver"
   ]
  },
  {
   "cell_type": "code",
   "execution_count": null,
   "metadata": {},
   "outputs": [],
   "source": [
    "#| eval: False\n",
    "from iza.utils import ArchiveDownloader\n",
    "from iza.static import AMAZON_BUCKET_FLUENTBIO\n",
    "\n",
    "downloader = ArchiveDownloader(\n",
    "    rootdir = AMAZON_BUCKET_FLUENTBIO,\n",
    "    archive = 'public-datasets/pbmc/',\n",
    "    entries = ['combined.html', 'filtered_matrix.tar.gz'],\n",
    "    savedir = '~/Downloads/test',  extract=True, cleanup=True\n",
    ")\n",
    "downloader.execute()"
   ]
  },
  {
   "cell_type": "code",
   "execution_count": null,
   "metadata": {},
   "outputs": [],
   "source": [
    "#| hide\n",
    "import nbdev; nbdev.nbdev_export()"
   ]
  }
 ],
 "metadata": {
  "kernelspec": {
   "display_name": "python3",
   "language": "python",
   "name": "python3"
  }
 },
 "nbformat": 4,
 "nbformat_minor": 2
}
