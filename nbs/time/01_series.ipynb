{
 "cells": [
  {
   "attachments": {},
   "cell_type": "markdown",
   "metadata": {},
   "source": [
    "# TimeSeriesDataset and TimeSeriesDataModule\n",
    "\n",
    "> TimeSeries."
   ]
  },
  {
   "cell_type": "code",
   "execution_count": null,
   "metadata": {},
   "outputs": [],
   "source": [
    "#| default_exp time.series"
   ]
  },
  {
   "cell_type": "code",
   "execution_count": null,
   "metadata": {},
   "outputs": [],
   "source": [
    "#| hide\n",
    "from nbdev.showdoc import *"
   ]
  },
  {
   "cell_type": "code",
   "execution_count": null,
   "metadata": {},
   "outputs": [],
   "source": [
    "#| export\n",
    "import numpy as np, pandas as pd\n",
    "\n",
    "import torch, torch.nn as nn, pytorch_lightning as pl\n",
    "from torch.utils.data import DataLoader\n",
    "from torch.nn.utils.rnn import pad_sequence"
   ]
  },
  {
   "cell_type": "code",
   "execution_count": null,
   "metadata": {},
   "outputs": [],
   "source": [
    "#| export\n",
    "from dataclasses import dataclass, field, KW_ONLY\n",
    "from beartype.typing import Optional, Union, Iterable\n",
    "\n",
    "from iza.static import TIME, SERIES\n",
    "from iza.utils import Slice"
   ]
  },
  {
   "cell_type": "code",
   "execution_count": null,
   "metadata": {},
   "outputs": [],
   "source": [
    "#| export\n",
    "from littyping.core import (Device)\n",
    "\n",
    "from litds.abc.dfdm.base import set_dataset, BaseDataFrameDataModule\n",
    "from litds.abc.dfds.base import BaseDataFrameDataset\n",
    "from litds.types import (\n",
    "    SequenceWithLength, SequencesWithLengths\n",
    ")\n",
    "from litds.mocks.time import MockTimeSeries\n",
    "from litds.time.mixs import TimeDatasetMixin"
   ]
  },
  {
   "cell_type": "code",
   "execution_count": null,
   "metadata": {},
   "outputs": [
    {
     "data": {
      "text/html": [
       "<div>\n",
       "<style scoped>\n",
       "    .dataframe tbody tr th:only-of-type {\n",
       "        vertical-align: middle;\n",
       "    }\n",
       "\n",
       "    .dataframe tbody tr th {\n",
       "        vertical-align: top;\n",
       "    }\n",
       "\n",
       "    .dataframe thead th {\n",
       "        text-align: right;\n",
       "    }\n",
       "</style>\n",
       "<table border=\"1\" class=\"dataframe\">\n",
       "  <thead>\n",
       "    <tr style=\"text-align: right;\">\n",
       "      <th></th>\n",
       "      <th>time</th>\n",
       "      <th>feature_0</th>\n",
       "      <th>feature_1</th>\n",
       "      <th>feature_2</th>\n",
       "    </tr>\n",
       "    <tr>\n",
       "      <th>series</th>\n",
       "      <th></th>\n",
       "      <th></th>\n",
       "      <th></th>\n",
       "      <th></th>\n",
       "    </tr>\n",
       "  </thead>\n",
       "  <tbody>\n",
       "    <tr>\n",
       "      <th>0</th>\n",
       "      <td>0</td>\n",
       "      <td>4</td>\n",
       "      <td>8</td>\n",
       "      <td>0</td>\n",
       "    </tr>\n",
       "    <tr>\n",
       "      <th>0</th>\n",
       "      <td>1</td>\n",
       "      <td>0</td>\n",
       "      <td>0</td>\n",
       "      <td>0</td>\n",
       "    </tr>\n",
       "    <tr>\n",
       "      <th>0</th>\n",
       "      <td>2</td>\n",
       "      <td>0</td>\n",
       "      <td>2</td>\n",
       "      <td>2</td>\n",
       "    </tr>\n",
       "    <tr>\n",
       "      <th>0</th>\n",
       "      <td>3</td>\n",
       "      <td>6</td>\n",
       "      <td>0</td>\n",
       "      <td>4</td>\n",
       "    </tr>\n",
       "    <tr>\n",
       "      <th>0</th>\n",
       "      <td>4</td>\n",
       "      <td>7</td>\n",
       "      <td>4</td>\n",
       "      <td>3</td>\n",
       "    </tr>\n",
       "  </tbody>\n",
       "</table>\n",
       "</div>"
      ],
      "text/plain": [
       "        time  feature_0  feature_1  feature_2\n",
       "series                                       \n",
       "0          0          4          8          0\n",
       "0          1          0          0          0\n",
       "0          2          0          2          2\n",
       "0          3          6          0          4\n",
       "0          4          7          4          3"
      ]
     },
     "execution_count": null,
     "metadata": {},
     "output_type": "execute_result"
    }
   ],
   "source": [
    "#| eval: False\n",
    "df = MockTimeSeries(set_index=True).df\n",
    "df.head()"
   ]
  },
  {
   "attachments": {},
   "cell_type": "markdown",
   "metadata": {},
   "source": [
    "## TimeSeriesDataset"
   ]
  },
  {
   "cell_type": "code",
   "execution_count": null,
   "metadata": {},
   "outputs": [],
   "source": [
    "#| export\n",
    "@dataclass\n",
    "class TimeSeriesDataset(TimeDatasetMixin, BaseDataFrameDataset):    \n",
    "    # time_key: str = TIME\n",
    "    series_key: str = SERIES\n",
    "    pad: Optional[bool] = True\n",
    "    batch_first: Optional[bool] = True\n",
    "    \n",
    "    def __post_init__(self):\n",
    "        super().__post_init__()\n",
    "        if self.df.index.name == self.series_key:\n",
    "            self.df.reset_index(inplace=True)\n",
    "            \n",
    "        self.features = self.df.columns.drop([self.series_key, self.time_key], errors='ignore')\n",
    "        self.series_ids = self.df[self.series_key].unique()\n",
    "                \n",
    "    def __len__(self):\n",
    "        return len(self.series_ids)\n",
    "    \n",
    "\n",
    "    def is_series(self, idx: Union[int, str]) -> bool:\n",
    "        return idx in self.df.set_index(self.series_key).index\n",
    "\n",
    "    def getone(self, idx: int) -> SequenceWithLength:        \n",
    "        if not self.is_series(idx):\n",
    "            raise IndexError(f'Index {idx} is not a known series')\n",
    "        \n",
    "        cur_id = self.df.set_index(self.series_key).index.get_loc(idx)\n",
    "\n",
    "        df_sub = self.df.loc[cur_id]\n",
    "        # make sure series of length one is a DataFrame not a Series\n",
    "        if isinstance(df_sub, pd.Series):\n",
    "            df_sub = pd.DataFrame(df_sub).T\n",
    "        \n",
    "        # sort by time\n",
    "        df_sub = df_sub.sort_values(self.time_key)\n",
    "\n",
    "        time_seq = torch.FloatTensor(df_sub[self.features].values).float()\n",
    "        time_len = time_seq.shape[0]\n",
    "        return time_seq, time_len\n",
    "    \n",
    "    def getmany(self, idx: Iterable, pad: Optional[bool]=None) -> SequencesWithLengths:\n",
    "        pad = getattr(self, 'pad', pad)\n",
    "        data = [self.getone(i) for i in idx]\n",
    "        seqs, lens = zip(*data)\n",
    "        if pad:\n",
    "            seqs = pad_sequence(seqs, batch_first=self.batch_first)\n",
    "        lens = torch.tensor(lens)\n",
    "        return seqs, lens\n",
    "\n",
    "    def __getitem__(self, idx:int) -> Union[SequenceWithLength, SequencesWithLengths]:        \n",
    "        # Handle slice\n",
    "        if isinstance(idx, slice):\n",
    "            idx = self.series_ids[idx]\n",
    "        \n",
    "        # Handle series\n",
    "        if isinstance(idx, Iterable):\n",
    "            return self.getmany(idx)\n",
    "        \n",
    "        # Handle single item\n",
    "        time_seq, time_len = self.getone(idx)\n",
    "        return time_seq, time_len\n",
    "    \n",
    "    def getall(self):\n",
    "        return self.getmany(self.series_ids)\n",
    "    "
   ]
  },
  {
   "attachments": {},
   "cell_type": "markdown",
   "metadata": {},
   "source": [
    "### Example"
   ]
  },
  {
   "cell_type": "code",
   "execution_count": null,
   "metadata": {},
   "outputs": [],
   "source": [
    "#| eval: False\n",
    "tsd = TimeSeriesDataset(df)"
   ]
  },
  {
   "cell_type": "code",
   "execution_count": null,
   "metadata": {},
   "outputs": [
    {
     "data": {
      "text/plain": [
       "(tensor([[[4., 8., 0.],\n",
       "          [0., 0., 0.],\n",
       "          [0., 2., 2.],\n",
       "          [7., 2., 1.],\n",
       "          [6., 0., 4.],\n",
       "          [7., 4., 3.],\n",
       "          [1., 5., 5.],\n",
       "          [0., 1., 4.],\n",
       "          [1., 2., 2.],\n",
       "          [7., 0., 5.]],\n",
       " \n",
       "         [[8., 4., 1.],\n",
       "          [7., 2., 1.],\n",
       "          [0., 8., 2.],\n",
       "          [0., 0., 0.],\n",
       "          [0., 0., 0.],\n",
       "          [0., 0., 0.],\n",
       "          [0., 0., 0.],\n",
       "          [0., 0., 0.],\n",
       "          [0., 0., 0.],\n",
       "          [0., 0., 0.]]]),\n",
       " tensor([10,  3]))"
      ]
     },
     "execution_count": null,
     "metadata": {},
     "output_type": "execute_result"
    }
   ],
   "source": [
    "#| eval: False\n",
    "tsd[[0, 1]]"
   ]
  },
  {
   "attachments": {},
   "cell_type": "markdown",
   "metadata": {},
   "source": [
    "## TimeSeriesDataModule"
   ]
  },
  {
   "cell_type": "code",
   "execution_count": null,
   "metadata": {},
   "outputs": [],
   "source": [
    "#| export\n",
    "@set_dataset(TimeSeriesDataset)\n",
    "class TimeSeriesDataModule(BaseDataFrameDataModule):\n",
    "    series_key: str = SERIES\n",
    "    time_key: str = TIME\n",
    "    pad: Optional[bool] = True\n",
    "    batch_first: Optional[bool] = True\n",
    "    batch_size: Optional[int] = 64\n",
    "    \n",
    "    _: KW_ONLY = field(default=None, init=False)\n",
    "    include_time: Optional[bool] = False\n",
    "    device: Optional[Device] = None\n",
    "\n",
    "    def setup(self, stage: Optional[str]=None):\n",
    "        pass\n",
    "\n",
    "    def train_dataloader(self):\n",
    "        ds = self.make_dataset()\n",
    "        self.train_ds = ds\n",
    "        return DataLoader(ds, batch_size=self.batch_size, collate_fn=self.collate_fn)\n",
    "\n",
    "    def collate_fn(self, batch):\n",
    "        seqs, lens = zip(*batch)\n",
    "        seqs = pad_sequence(seqs, batch_first=True)\n",
    "        lens = torch.tensor(lens)\n",
    "        return seqs, lens\n",
    "\n",
    "    def getall(self, pad: Optional[bool]=True) -> Union[SequenceWithLength, SequencesWithLengths]:\n",
    "        pad = getattr(self, 'pad', pad)\n",
    "        return self.ds.getall(pad=pad)"
   ]
  },
  {
   "attachments": {},
   "cell_type": "markdown",
   "metadata": {},
   "source": [
    "### Example"
   ]
  },
  {
   "cell_type": "code",
   "execution_count": null,
   "metadata": {},
   "outputs": [],
   "source": [
    "#| eval: False\n",
    "tsdm = TimeSeriesDataModule(df)"
   ]
  },
  {
   "cell_type": "code",
   "execution_count": null,
   "metadata": {},
   "outputs": [],
   "source": [
    "#| hide\n",
    "import nbdev; nbdev.nbdev_export()"
   ]
  }
 ],
 "metadata": {
  "kernelspec": {
   "display_name": "python3",
   "language": "python",
   "name": "python3"
  }
 },
 "nbformat": 4,
 "nbformat_minor": 2
}
