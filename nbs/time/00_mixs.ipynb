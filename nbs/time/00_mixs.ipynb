{
 "cells": [
  {
   "attachments": {},
   "cell_type": "markdown",
   "metadata": {},
   "source": [
    "# Time Mixins\n",
    "\n",
    "> Time datasets."
   ]
  },
  {
   "cell_type": "code",
   "execution_count": null,
   "metadata": {},
   "outputs": [],
   "source": [
    "#| default_exp time.mixs"
   ]
  },
  {
   "cell_type": "code",
   "execution_count": null,
   "metadata": {},
   "outputs": [],
   "source": [
    "#| hide\n",
    "from nbdev.showdoc import *"
   ]
  },
  {
   "cell_type": "code",
   "execution_count": null,
   "metadata": {},
   "outputs": [],
   "source": [
    "#| export\n",
    "import numpy as np, pandas as pd\n",
    "\n",
    "import torch, torch.nn as nn, pytorch_lightning as pl\n",
    "from torch.utils.data import DataLoader\n",
    "from torch.nn.utils.rnn import pad_sequence"
   ]
  },
  {
   "cell_type": "code",
   "execution_count": null,
   "metadata": {},
   "outputs": [],
   "source": [
    "#| export\n",
    "from dataclasses import dataclass, field, KW_ONLY\n",
    "from beartype.typing import Optional, Union, Iterable\n",
    "\n",
    "from iza.static import TIME, SERIES\n",
    "from iza.utils import Slice"
   ]
  },
  {
   "cell_type": "code",
   "execution_count": null,
   "metadata": {},
   "outputs": [],
   "source": [
    "#| export\n",
    "from littyping.core import (Device)\n",
    "\n",
    "from litds.abc.dfdm.base import set_dataset, BaseDataFrameDataModule\n",
    "from litds.abc.dfds.base import BaseDataFrameDataset\n",
    "from litds.types import (SequenceWithLength, SequencesWithLengths)\n",
    "from litds.mocks.time import MockTimeSeries"
   ]
  },
  {
   "cell_type": "code",
   "execution_count": null,
   "metadata": {},
   "outputs": [
    {
     "data": {
      "text/html": [
       "<div>\n",
       "<style scoped>\n",
       "    .dataframe tbody tr th:only-of-type {\n",
       "        vertical-align: middle;\n",
       "    }\n",
       "\n",
       "    .dataframe tbody tr th {\n",
       "        vertical-align: top;\n",
       "    }\n",
       "\n",
       "    .dataframe thead th {\n",
       "        text-align: right;\n",
       "    }\n",
       "</style>\n",
       "<table border=\"1\" class=\"dataframe\">\n",
       "  <thead>\n",
       "    <tr style=\"text-align: right;\">\n",
       "      <th></th>\n",
       "      <th>time</th>\n",
       "      <th>feature_0</th>\n",
       "      <th>feature_1</th>\n",
       "      <th>feature_2</th>\n",
       "    </tr>\n",
       "    <tr>\n",
       "      <th>series</th>\n",
       "      <th></th>\n",
       "      <th></th>\n",
       "      <th></th>\n",
       "      <th></th>\n",
       "    </tr>\n",
       "  </thead>\n",
       "  <tbody>\n",
       "    <tr>\n",
       "      <th>0</th>\n",
       "      <td>0</td>\n",
       "      <td>4</td>\n",
       "      <td>8</td>\n",
       "      <td>0</td>\n",
       "    </tr>\n",
       "    <tr>\n",
       "      <th>0</th>\n",
       "      <td>1</td>\n",
       "      <td>0</td>\n",
       "      <td>0</td>\n",
       "      <td>0</td>\n",
       "    </tr>\n",
       "    <tr>\n",
       "      <th>0</th>\n",
       "      <td>2</td>\n",
       "      <td>0</td>\n",
       "      <td>2</td>\n",
       "      <td>2</td>\n",
       "    </tr>\n",
       "    <tr>\n",
       "      <th>0</th>\n",
       "      <td>3</td>\n",
       "      <td>6</td>\n",
       "      <td>0</td>\n",
       "      <td>4</td>\n",
       "    </tr>\n",
       "    <tr>\n",
       "      <th>0</th>\n",
       "      <td>4</td>\n",
       "      <td>7</td>\n",
       "      <td>4</td>\n",
       "      <td>3</td>\n",
       "    </tr>\n",
       "  </tbody>\n",
       "</table>\n",
       "</div>"
      ],
      "text/plain": [
       "        time  feature_0  feature_1  feature_2\n",
       "series                                       \n",
       "0          0          4          8          0\n",
       "0          1          0          0          0\n",
       "0          2          0          2          2\n",
       "0          3          6          0          4\n",
       "0          4          7          4          3"
      ]
     },
     "execution_count": null,
     "metadata": {},
     "output_type": "execute_result"
    }
   ],
   "source": [
    "#| eval: False\n",
    "df = MockTimeSeries(set_index=True).df\n",
    "df.head()"
   ]
  },
  {
   "attachments": {},
   "cell_type": "markdown",
   "metadata": {},
   "source": [
    "## TimeDatasetMixin"
   ]
  },
  {
   "cell_type": "code",
   "execution_count": null,
   "metadata": {},
   "outputs": [],
   "source": [
    "#| export\n",
    "@dataclass\n",
    "class TimeDatasetMixin(BaseDataFrameDataset): \n",
    "    time_key: str = TIME\n",
    "\n",
    "    _: KW_ONLY = field(default=None, init=False)\n",
    "    include_time: Optional[bool] = False\n",
    "    device: Optional[Device] = None\n",
    "    \n",
    "    # t_min: int = field(default=None, init=False)\n",
    "    # t_max: int = field(default=None, init=False)\n",
    "    # t_uni: List[int] = field(default=None, init=False)\n",
    "    # t_idxs: Dict[int, Iterable] = field(default=None, init=False)\n",
    "\n",
    "    def __post_init__(self):\n",
    "        super().__post_init__()\n",
    "        time_cats = self.df[self.time_key].astype('category')\n",
    "\n",
    "        unique_timepoints = sorted(time_cats.cat.codes.unique())\n",
    "        \n",
    "        self.t_uni = unique_timepoints\n",
    "        self.t_min = np.min(unique_timepoints)\n",
    "        self.t_max = np.max(unique_timepoints)\n",
    "\n",
    "        self.t_idxs = {\n",
    "            t_val: (time_cats.cat.codes == t_val)\n",
    "            for t_val in unique_timepoints\n",
    "        }\n",
    "\n",
    "    def __len__(self):\n",
    "        # NOTE: we divide by the number of timepoints we have\n",
    "        # even though it is not gaurenteed that we have an uniform number\n",
    "        # of samples per time point\n",
    "\n",
    "        # NOTE: this will impact the DataLoader later on\n",
    "        # as the batch size will be the min(batch_size, len(self))\n",
    "        return int(len(self.df) / len(self.t_uni))\n",
    "        return len(self.t_uni)\n",
    "\n",
    "    def getone(self):\n",
    "        df_tmp = self.df \n",
    "        if not self.include_time:\n",
    "            df_tmp = df_tmp.drop(columns=self.time_key, errors='ignore')\n",
    "\n",
    "        one_sample = np.vstack(tuple([\n",
    "            df_tmp[t_idx].sample(1) for t_idx in self.t_idxs.values()\n",
    "        ]))\n",
    "        timepoints = self.t_uni\n",
    "\n",
    "        one_sample = torch.Tensor(one_sample)\n",
    "        timepoints = torch.Tensor(timepoints)#.reshape(1, -1)\n",
    "\n",
    "        if self.device is not None:\n",
    "            one_sample = one_sample.to(self.device)\n",
    "            timepoints = timepoints.to(self.device)\n",
    "\n",
    "        return one_sample, timepoints\n",
    "    \n",
    "    def getmany(self, idx:int):        \n",
    "        data = [self.getone() for _ in idx]\n",
    "        seqs, time = zip(*data)\n",
    "        # time = torch.tensor(time)\n",
    "        seqs = torch.stack(seqs)\n",
    "        time = torch.stack(time)\n",
    "        return seqs, time\n",
    "\n",
    "    \n",
    "    def sample(self, t: int, n: int = 1, replace: bool = False):\n",
    "        idx = self.t_idxs[t]\n",
    "        return self.df[idx].sample(n=n, replace=replace)\n",
    "\n",
    "    def __getitem__(self, idx):\n",
    "\n",
    "        if isinstance(idx, slice):\n",
    "            src = Slice(idx)\n",
    "            arr = src.astype(list)\n",
    "            idx = arr\n",
    "\n",
    "        if isinstance(idx, Iterable):\n",
    "            return self.getmany(idx)\n",
    "        \n",
    "        one_sample, timepoints = self.getone()\n",
    "        return one_sample, timepoints"
   ]
  },
  {
   "cell_type": "code",
   "execution_count": null,
   "metadata": {},
   "outputs": [],
   "source": [
    "#| hide\n",
    "import nbdev; nbdev.nbdev_export()"
   ]
  }
 ],
 "metadata": {
  "kernelspec": {
   "display_name": "python3",
   "language": "python",
   "name": "python3"
  }
 },
 "nbformat": 4,
 "nbformat_minor": 2
}
