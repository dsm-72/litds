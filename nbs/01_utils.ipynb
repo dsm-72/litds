{
 "cells": [
  {
   "attachments": {},
   "cell_type": "markdown",
   "metadata": {},
   "source": [
    "# utils\n",
    "\n",
    "> util functions."
   ]
  },
  {
   "cell_type": "code",
   "execution_count": null,
   "metadata": {},
   "outputs": [],
   "source": [
    "#| default_exp utils"
   ]
  },
  {
   "cell_type": "code",
   "execution_count": null,
   "metadata": {},
   "outputs": [],
   "source": [
    "#| hide\n",
    "from nbdev.showdoc import *"
   ]
  },
  {
   "cell_type": "code",
   "execution_count": null,
   "metadata": {},
   "outputs": [],
   "source": [
    "#| export\n",
    "import torch"
   ]
  },
  {
   "cell_type": "code",
   "execution_count": null,
   "metadata": {},
   "outputs": [],
   "source": [
    "#| export\n",
    "from litds.types import DataFrame, DatasetSplitSpec, SplitDatasets"
   ]
  },
  {
   "cell_type": "code",
   "execution_count": null,
   "metadata": {},
   "outputs": [],
   "source": [
    "#| export\n",
    "def random_split_dataframe(\n",
    "    df: DataFrame,  \n",
    "    splits: DatasetSplitSpec,\n",
    "    as_dataframes: bool=False,\n",
    ") -> SplitDatasets:\n",
    "    \n",
    "    subsets = torch.utils.data.random_split(df, splits)    \n",
    "    \n",
    "    indices = [subset.indices for subset in subsets]\n",
    "    indices = tuple(indices)\n",
    "    \n",
    "    if as_dataframes:\n",
    "        dfs: SplitDatasets = tuple([\n",
    "            df.iloc[idxs].reset_index(drop=True)\n",
    "            for idxs in indices\n",
    "        ])\n",
    "        return dfs\n",
    "    \n",
    "    return indices"
   ]
  },
  {
   "cell_type": "code",
   "execution_count": null,
   "metadata": {},
   "outputs": [],
   "source": [
    "#| hide\n",
    "import nbdev; nbdev.nbdev_export()"
   ]
  }
 ],
 "metadata": {
  "kernelspec": {
   "display_name": "python3",
   "language": "python",
   "name": "python3"
  }
 },
 "nbformat": 4,
 "nbformat_minor": 2
}
