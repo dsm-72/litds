{
 "cells": [
  {
   "attachments": {},
   "cell_type": "markdown",
   "metadata": {},
   "source": [
    "# DataFrameDataset\n",
    "\n",
    "> DataFrameDataset"
   ]
  },
  {
   "cell_type": "code",
   "execution_count": null,
   "metadata": {},
   "outputs": [],
   "source": [
    "#| default_exp core.dfds"
   ]
  },
  {
   "cell_type": "code",
   "execution_count": null,
   "metadata": {},
   "outputs": [],
   "source": [
    "#| hide\n",
    "from nbdev.showdoc import *"
   ]
  },
  {
   "cell_type": "code",
   "execution_count": null,
   "metadata": {},
   "outputs": [],
   "source": [
    "#| export\n",
    "import numpy as np\n",
    "import torch\n",
    "\n",
    "from dataclasses import dataclass, field, KW_ONLY\n",
    "from beartype.typing import Optional, Iterable\n",
    "\n",
    "from iza.static import (LABEL, )\n",
    "from iza.utils import (Slice, wrangle_kwargs_for_func, )\n",
    "\n",
    "from littyping.core import Device"
   ]
  },
  {
   "cell_type": "code",
   "execution_count": null,
   "metadata": {},
   "outputs": [],
   "source": [
    "#| export\n",
    "from litds.mocks.time import MockTimeSeries\n",
    "from litds.abc.dfds.base import BaseDataFrameDataset"
   ]
  },
  {
   "cell_type": "code",
   "execution_count": null,
   "metadata": {},
   "outputs": [],
   "source": [
    "#| eval: False\n",
    "df = MockTimeSeries(set_index=True).df\n",
    "df.head()"
   ]
  },
  {
   "attachments": {},
   "cell_type": "markdown",
   "metadata": {},
   "source": [
    "## DataFrameDataset"
   ]
  },
  {
   "attachments": {},
   "cell_type": "markdown",
   "metadata": {},
   "source": [
    "### DataFrameDatasetMixin"
   ]
  },
  {
   "cell_type": "code",
   "execution_count": null,
   "metadata": {},
   "outputs": [],
   "source": [
    "#| export\n",
    "@dataclass\n",
    "class DataFrameDatasetMixin(BaseDataFrameDataset): \n",
    "    label_key: str = LABEL\n",
    "\n",
    "    _: KW_ONLY = field(default=None, init=False)    \n",
    "    device: Optional[Device] = None\n",
    "\n",
    "    def __init__(self, *args, **kwargs) -> None:\n",
    "        params = wrangle_kwargs_for_func(super().__init__, dict(label_key=self.label_key), **kwargs)        \n",
    "        super().__init__(**params)\n",
    "    \n",
    "    def __post_init__(self):\n",
    "        super().__post_init__()\n",
    "        label_cats = self.df[self.label_key].astype('category')\n",
    "\n",
    "        unique_labels = sorted(label_cats.cat.codes.unique())\n",
    "        \n",
    "        self.y_uni = unique_labels\n",
    "\n",
    "        self.y_idxs = {\n",
    "            label: (label_cats.cat.codes == label)\n",
    "            for label in unique_labels\n",
    "        }\n",
    "\n",
    "    def __len__(self):\n",
    "        # NOTE: we divide by the number of timepoints we have\n",
    "        # even though it is not gaurenteed that we have an uniform number\n",
    "        # of samples per time point\n",
    "\n",
    "        # NOTE: this will impact the DataLoader later on\n",
    "        # as the batch size will be the min(batch_size, len(self))\n",
    "\n",
    "        # we group by label and then take mean count for each label\n",
    "        groups = self.df.reset_index().groupby(self.label_key)\n",
    "        return int(groups.count().mean().mean().round())\n",
    "\n",
    "    def getone(self):\n",
    "        df_tmp = self.df.drop(columns=self.label_key, errors='ignore')\n",
    "\n",
    "        sample = np.vstack(tuple([\n",
    "            df_tmp[y_idx].sample(1) for y_idx in self.y_idxs.values()\n",
    "        ]))\n",
    "        labels = self.y_uni\n",
    "\n",
    "        sample = torch.Tensor(sample)\n",
    "        labels = torch.Tensor(labels)\n",
    "\n",
    "        if self.device is not None:\n",
    "            sample = sample.to(self.device)\n",
    "            labels = labels.to(self.device)\n",
    "\n",
    "        return sample, labels\n",
    "    \n",
    "    def getmany(self, idx: int):        \n",
    "        data = [self.getone() for _ in idx]\n",
    "        samples, targets = zip(*data)\n",
    "        \n",
    "        samples = torch.stack(samples)\n",
    "        targets = torch.stack(targets)\n",
    "        return samples, targets\n",
    "\n",
    "    \n",
    "    def sample(self, label: int, n: int = 1, replace: bool = False):\n",
    "        idx = self.y_idxs[label]\n",
    "        return self.df[idx].sample(n=n, replace=replace)\n",
    "\n",
    "    def __getitem__(self, idx):\n",
    "\n",
    "        if isinstance(idx, slice):\n",
    "            src = Slice(idx)\n",
    "            arr = src.astype(list)\n",
    "            idx = arr\n",
    "\n",
    "        if isinstance(idx, Iterable):\n",
    "            return self.getmany(idx)\n",
    "        \n",
    "        sample, labels = self.getone()\n",
    "        return sample, labels"
   ]
  },
  {
   "attachments": {},
   "cell_type": "markdown",
   "metadata": {},
   "source": [
    "### DataFrameDataset"
   ]
  },
  {
   "cell_type": "code",
   "execution_count": null,
   "metadata": {},
   "outputs": [],
   "source": [
    "#| export\n",
    "class DataFrameDataset(DataFrameDatasetMixin, BaseDataFrameDataset):\n",
    "    pass"
   ]
  },
  {
   "attachments": {},
   "cell_type": "markdown",
   "metadata": {},
   "source": [
    "#### Example"
   ]
  },
  {
   "cell_type": "code",
   "execution_count": null,
   "metadata": {},
   "outputs": [],
   "source": [
    "#| eval: False\n",
    "dfs = DataFrameDataset(df.reset_index().drop(columns='series', errors='ignore'), label_key='time')"
   ]
  },
  {
   "cell_type": "code",
   "execution_count": null,
   "metadata": {},
   "outputs": [],
   "source": [
    "#| eval: False\n",
    "dfs.y_uni"
   ]
  },
  {
   "cell_type": "code",
   "execution_count": null,
   "metadata": {},
   "outputs": [],
   "source": [
    "#| hide\n",
    "import nbdev; nbdev.nbdev_export()"
   ]
  }
 ],
 "metadata": {
  "kernelspec": {
   "display_name": "python3",
   "language": "python",
   "name": "python3"
  }
 },
 "nbformat": 4,
 "nbformat_minor": 4
}
