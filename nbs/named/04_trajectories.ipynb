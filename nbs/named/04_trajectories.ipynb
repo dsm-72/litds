{
 "cells": [
  {
   "attachments": {},
   "cell_type": "markdown",
   "metadata": {},
   "source": [
    "# Trajectories\n",
    "\n",
    "> trajectories."
   ]
  },
  {
   "cell_type": "code",
   "execution_count": null,
   "metadata": {},
   "outputs": [],
   "source": [
    "#| default_exp named.trj"
   ]
  },
  {
   "cell_type": "code",
   "execution_count": null,
   "metadata": {},
   "outputs": [],
   "source": [
    "#| hide\n",
    "%load_ext autoreload\n",
    "%autoreload 2"
   ]
  },
  {
   "cell_type": "code",
   "execution_count": null,
   "metadata": {},
   "outputs": [],
   "source": [
    "#| hide\n",
    "from nbdev.showdoc import *"
   ]
  },
  {
   "cell_type": "code",
   "execution_count": null,
   "metadata": {},
   "outputs": [],
   "source": [
    "#| export\n",
    "import os, copy, itertools\n",
    "import numpy as np, pandas as pd\n",
    "\n",
    "from dataclasses import dataclass, field\n",
    "from rich.repr import auto as rich_auto, Result as RichReprResult\n",
    "\n",
    "from typing import overload, Union, List, Tuple, Optional, Dict\n",
    "from enum import Enum, auto"
   ]
  },
  {
   "cell_type": "code",
   "execution_count": null,
   "metadata": {},
   "outputs": [],
   "source": [
    "from litds.named.arr import (\n",
    "    NamedArray, NamedAxes, NamedAxis, NamedArrayDynamicAttrsMixin\n",
    ")"
   ]
  },
  {
   "cell_type": "code",
   "execution_count": null,
   "metadata": {},
   "outputs": [],
   "source": [
    "#| export\n",
    "class TrajectoryDim(Enum):\n",
    "    traj = auto()\n",
    "    obsv = auto()\n",
    "    feat = auto()"
   ]
  },
  {
   "cell_type": "code",
   "execution_count": null,
   "metadata": {},
   "outputs": [],
   "source": [
    "#| export\n",
    "class GeneTrajectoryDim(Enum):\n",
    "    traj = auto()\n",
    "    cell = auto()\n",
    "    gene = auto()\n",
    "\n",
    "'''\n",
    "NOTE: originally the tuple had the followings strings and variable names:\n",
    "- (timebins, cells, genes) \n",
    "- (tbins, cells, genes)\n",
    "It is assumed that the trajectory matrix has three axes of assumed shape.\n",
    "'''"
   ]
  },
  {
   "cell_type": "code",
   "execution_count": null,
   "metadata": {},
   "outputs": [],
   "source": [
    "#| export\n",
    "class ObservationTrajectories(NamedArray):\n",
    "    DIMS = NamedAxes([\n",
    "        NamedAxis(TrajectoryDim.obsv.name, 0), \n",
    "        NamedAxis(TrajectoryDim.traj.name, 1),\n",
    "    ])\n",
    "\n",
    "#| export\n",
    "class FeatureTrajectories(NamedArray):\n",
    "    DIMS = NamedAxes([\n",
    "        NamedAxis(TrajectoryDim.feat.name, 0), \n",
    "        NamedAxis(TrajectoryDim.traj.name, 1),\n",
    "    ])"
   ]
  },
  {
   "cell_type": "code",
   "execution_count": null,
   "metadata": {},
   "outputs": [],
   "source": [
    "#| export\n",
    "class CellularTrajectories(NamedArray):\n",
    "    DIMS = NamedAxes([\n",
    "        NamedAxis(GeneTrajectoryDim.cell.name, 0), \n",
    "        NamedAxis(GeneTrajectoryDim.traj.name, 1),\n",
    "    ])\n",
    "\n",
    "#| export\n",
    "class ExpressionTrajectories(NamedArray):\n",
    "    DIMS = NamedAxes([\n",
    "        NamedAxis(GeneTrajectoryDim.gene.name, 0), \n",
    "        NamedAxis(GeneTrajectoryDim.traj.name, 1),\n",
    "    ])"
   ]
  },
  {
   "cell_type": "code",
   "execution_count": null,
   "metadata": {},
   "outputs": [],
   "source": [
    "#| export\n",
    "class Trajectories(NamedArray):\n",
    "    DIMS = NamedAxes([NamedAxis(dim.name, i) for i, dim in enumerate(TrajectoryDim)])\n",
    "    \n",
    "    def to_obsv_x_traj(self, aggr=np.mean):\n",
    "        agg_arr = aggr(np.asarray(self.transpose(\n",
    "            TrajectoryDim.obsv.name, TrajectoryDim.traj.name, TrajectoryDim.feat.name,            \n",
    "        )), axis=2)\n",
    "        return ObservationTrajectories(agg_arr)\n",
    "        \n",
    "    def to_feat_x_traj(self, aggr=np.mean):\n",
    "        agg_arr = aggr(np.asarray(self.transpose(\n",
    "            TrajectoryDim.feat.name, TrajectoryDim.traj.name, TrajectoryDim.obsv.name,            \n",
    "        )), axis=2)\n",
    "        return FeatureTrajectories(agg_arr)"
   ]
  },
  {
   "cell_type": "code",
   "execution_count": null,
   "metadata": {},
   "outputs": [],
   "source": [
    "#| export\n",
    "class GeneTrajectories(NamedArray):\n",
    "    DIMS = NamedAxes([NamedAxis(dim.name, i) for i, dim in enumerate(GeneTrajectoryDim)])\n",
    "    \n",
    "    def __new__(cls, *args, **kwargs):\n",
    "        obj = super().__new__(cls, *args, **kwargs)        \n",
    "        return obj\n",
    "        \n",
    "    def to_cell_x_traj(self, aggr=np.mean):\n",
    "        '''\n",
    "        Transpose and aggregate trajectories matrix (timebins, cells, gene)\n",
    "        to produce (cells, timebins)\n",
    "        ''' \n",
    "        agg_arr = aggr(np.asarray(self.transpose(\n",
    "            GeneTrajectoryDim.cell.name, GeneTrajectoryDim.traj.name, GeneTrajectoryDim.gene.name,\n",
    "        )), axis=2)\n",
    "        return CellularTrajectories(agg_arr)\n",
    "    \n",
    "    def to_gene_x_traj(self, aggr=np.mean):\n",
    "        '''\n",
    "        Transpose and aggregate trajectories matrix (timebins, cells, gene)\n",
    "        to produce (genes, timebins)\n",
    "        '''\n",
    "        agg_arr = aggr(np.asarray(self.transpose(\n",
    "            GeneTrajectoryDim.gene.name, GeneTrajectoryDim.traj.name, GeneTrajectoryDim.cell.name,            \n",
    "        )), axis=2)\n",
    "        return ExpressionTrajectories(agg_arr)"
   ]
  },
  {
   "cell_type": "code",
   "execution_count": null,
   "metadata": {},
   "outputs": [],
   "source": [
    "#| hide\n",
    "import nbdev; nbdev.nbdev_export()"
   ]
  }
 ],
 "metadata": {
  "kernelspec": {
   "display_name": "python3",
   "language": "python",
   "name": "python3"
  }
 },
 "nbformat": 4,
 "nbformat_minor": 2
}
