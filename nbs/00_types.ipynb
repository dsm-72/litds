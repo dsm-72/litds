{
 "cells": [
  {
   "attachments": {},
   "cell_type": "markdown",
   "metadata": {},
   "source": [
    "# LitDS Types\n",
    "\n",
    "> types and aliases."
   ]
  },
  {
   "cell_type": "code",
   "execution_count": null,
   "metadata": {},
   "outputs": [],
   "source": [
    "#| default_exp types"
   ]
  },
  {
   "cell_type": "code",
   "execution_count": null,
   "metadata": {},
   "outputs": [],
   "source": [
    "#| hide\n",
    "from nbdev.showdoc import *"
   ]
  },
  {
   "attachments": {},
   "cell_type": "markdown",
   "metadata": {},
   "source": [
    "## iza types"
   ]
  },
  {
   "cell_type": "code",
   "execution_count": null,
   "metadata": {},
   "outputs": [],
   "source": [
    "#| export\n",
    "from iza.types import (\n",
    "    Series, ndarray, Tensor, DataFrame, DataFrames, AnnData, AnnDatas,\n",
    "    Numeric, Bool, Boolish, IndexLike, SeriesLike, IterLike, GroupKey,\n",
    "    Number\n",
    ")\n",
    "\n",
    "from iza.types import (\n",
    "    TrainValidSplit, TrainTestSplit, TrainValidTestSplit,\n",
    "    DatasetSplitSpec, SplitDatasets,    \n",
    ")\n",
    "\n",
    "from iza.types import (\n",
    "    SplitTuple2, SplitTuple3, SplitAsList,\n",
    "    SplitDataset2Idxs, SplitDataset3Idxs, SplitDataFrames2, SplitDataFrames3\n",
    ")"
   ]
  },
  {
   "attachments": {},
   "cell_type": "markdown",
   "metadata": {},
   "source": [
    "## LitData types"
   ]
  },
  {
   "cell_type": "code",
   "execution_count": null,
   "metadata": {},
   "outputs": [],
   "source": [
    "#| export\n",
    "from beartype.typing import (Tuple, Union, TypeAlias)\n",
    "\n",
    "import numpy as np\n",
    "from nptyping import NDArray, Float, Shape, Number as AnyNumber, Bool as NPBool\n",
    "\n",
    "import torch"
   ]
  },
  {
   "attachments": {},
   "cell_type": "markdown",
   "metadata": {},
   "source": [
    "### Simple Aliases"
   ]
  },
  {
   "cell_type": "code",
   "execution_count": null,
   "metadata": {},
   "outputs": [],
   "source": [
    "#| export\n",
    "BoolLike: TypeAlias = Union[bool, NPBool, np.bool_]"
   ]
  },
  {
   "attachments": {},
   "cell_type": "markdown",
   "metadata": {},
   "source": [
    "### NumPy Types"
   ]
  },
  {
   "cell_type": "code",
   "execution_count": null,
   "metadata": {},
   "outputs": [],
   "source": [
    "#| export\n",
    "XYArray = NDArray[Shape[\"*, [x, y]\"], Float]\n",
    "\n",
    "DistanceArray = NDArray[Shape[\"*\"], Float]\n",
    "\n",
    "LabelArray = NDArray[Shape[\"*\"], AnyNumber]"
   ]
  },
  {
   "attachments": {},
   "cell_type": "markdown",
   "metadata": {},
   "source": [
    "### Tensor Types"
   ]
  },
  {
   "cell_type": "code",
   "execution_count": null,
   "metadata": {},
   "outputs": [],
   "source": [
    "#| export\n",
    "SequenceWithLength: TypeAlias = Tuple[torch.FloatTensor, int]\n",
    "\n",
    "SequencesWithLengths: TypeAlias = Tuple[torch.FloatTensor, torch.IntTensor]"
   ]
  },
  {
   "cell_type": "code",
   "execution_count": null,
   "metadata": {},
   "outputs": [],
   "source": [
    "#| hide\n",
    "import nbdev; nbdev.nbdev_export()"
   ]
  }
 ],
 "metadata": {
  "kernelspec": {
   "display_name": "python3",
   "language": "python",
   "name": "python3"
  }
 },
 "nbformat": 4,
 "nbformat_minor": 2
}
