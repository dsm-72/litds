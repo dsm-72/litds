{
 "cells": [
  {
   "attachments": {},
   "cell_type": "markdown",
   "metadata": {},
   "source": [
    "# Dataset Mocks\n",
    "\n",
    "> mocks for dataset"
   ]
  },
  {
   "cell_type": "code",
   "execution_count": null,
   "metadata": {},
   "outputs": [],
   "source": [
    "#| default_exp mocks.time"
   ]
  },
  {
   "cell_type": "code",
   "execution_count": null,
   "metadata": {},
   "outputs": [],
   "source": [
    "#| hide\n",
    "from nbdev.showdoc import *"
   ]
  },
  {
   "cell_type": "code",
   "execution_count": null,
   "metadata": {},
   "outputs": [],
   "source": [
    "#| export\n",
    "from dataclasses import dataclass, field, KW_ONLY\n",
    "from beartype.typing import Optional\n",
    "from beartype import beartype\n",
    "from litds.abc.mock.base import BaseMock\n",
    "from litds.types import DataFrame\n",
    "\n",
    "import pandas as pd, numpy as np"
   ]
  },
  {
   "cell_type": "code",
   "execution_count": null,
   "metadata": {},
   "outputs": [],
   "source": [
    "#| export\n",
    "from iza.static import TIME, SERIES, PHATE, BARCODE, CONDITION"
   ]
  },
  {
   "attachments": {},
   "cell_type": "markdown",
   "metadata": {},
   "source": [
    "## Mock"
   ]
  },
  {
   "attachments": {},
   "cell_type": "markdown",
   "metadata": {},
   "source": [
    "### TimeSeries"
   ]
  },
  {
   "cell_type": "code",
   "execution_count": null,
   "metadata": {},
   "outputs": [],
   "source": [
    "#| export\n",
    "@dataclass\n",
    "class MockTimeSeries(BaseMock):\n",
    "    n_series: int = 5\n",
    "    n_features: int = 3\n",
    "\n",
    "    series_key: Optional[str] = SERIES\n",
    "    time_key: Optional[str] = TIME\n",
    "\n",
    "    max_t: Optional[int] = 10\n",
    "    max_int: Optional[bool] = 10\n",
    "    max_rows: Optional[int] = None\n",
    "\n",
    "    use_int_features: Optional[bool] = True\n",
    "\n",
    "    def setup(self) -> DataFrame:\n",
    "        key_cols = [self.series_key, self.time_key]\n",
    "\n",
    "        data = np.empty((0, len(key_cols) + self.n_features))\n",
    "\n",
    "        for idx in range(self.n_series):\n",
    "            # Randomly choose the number of timepoints\n",
    "            n_chose = np.random.randint(1, self.max_t)\n",
    "            \n",
    "            # Randomly pick timepoints as it is not a guarantee that all timepoints are present\n",
    "            # or that they are consequentive (e.g. 1, 2, 5, 6, 9)\n",
    "            timepoints = np.random.choice(np.arange(self.max_t), n_chose, replace=False)\n",
    "            \n",
    "            # Generate random features\n",
    "            feature_shape = (n_chose, self.n_features)\n",
    "            features = np.random.randn(*feature_shape)\n",
    "            if self.use_int_features:\n",
    "                features =  np.random.randint(0, self.max_int, feature_shape)\n",
    "\n",
    "            \n",
    "            # Stack everything together\n",
    "            series_data = np.hstack((\n",
    "                np.repeat([idx], n_chose).reshape(-1, 1),\n",
    "                timepoints.reshape(-1, 1),\n",
    "                features\n",
    "            ))\n",
    "\n",
    "            # Append to the data\n",
    "            data = np.vstack((data, series_data))\n",
    "\n",
    "        # make a dataframe        \n",
    "        columns = key_cols + self.make_col_names(self.n_features)\n",
    "        df = pd.DataFrame(data, columns=columns)\n",
    "        \n",
    "        # make sure series and time are integers        \n",
    "        df = df.astype({col: int for col in key_cols}, copy=False)\n",
    "        if self.use_int_features:\n",
    "            df = df.astype(int)\n",
    "\n",
    "        # downsample if needed\n",
    "        if self.max_rows is not None and self.max_rows < len(df):\n",
    "            df = df.sample(self.max_rows, replace=False)\n",
    "            \n",
    "        # sort by series and time to more easily see that not all time points are present\n",
    "        df.sort_values(key_cols, inplace=True)\n",
    "        df.reset_index(inplace=True, drop=True)\n",
    "\n",
    "        if self.set_index:\n",
    "            df.set_index(self.series_key, inplace=True)\n",
    "\n",
    "        return df"
   ]
  },
  {
   "cell_type": "code",
   "execution_count": null,
   "metadata": {},
   "outputs": [
    {
     "data": {
      "text/html": [
       "<div>\n",
       "<style scoped>\n",
       "    .dataframe tbody tr th:only-of-type {\n",
       "        vertical-align: middle;\n",
       "    }\n",
       "\n",
       "    .dataframe tbody tr th {\n",
       "        vertical-align: top;\n",
       "    }\n",
       "\n",
       "    .dataframe thead th {\n",
       "        text-align: right;\n",
       "    }\n",
       "</style>\n",
       "<table border=\"1\" class=\"dataframe\">\n",
       "  <thead>\n",
       "    <tr style=\"text-align: right;\">\n",
       "      <th></th>\n",
       "      <th>time</th>\n",
       "      <th>feature_0</th>\n",
       "      <th>feature_1</th>\n",
       "      <th>feature_2</th>\n",
       "    </tr>\n",
       "    <tr>\n",
       "      <th>series</th>\n",
       "      <th></th>\n",
       "      <th></th>\n",
       "      <th></th>\n",
       "      <th></th>\n",
       "    </tr>\n",
       "  </thead>\n",
       "  <tbody>\n",
       "    <tr>\n",
       "      <th>0</th>\n",
       "      <td>0</td>\n",
       "      <td>4</td>\n",
       "      <td>8</td>\n",
       "      <td>0</td>\n",
       "    </tr>\n",
       "    <tr>\n",
       "      <th>0</th>\n",
       "      <td>1</td>\n",
       "      <td>0</td>\n",
       "      <td>0</td>\n",
       "      <td>0</td>\n",
       "    </tr>\n",
       "    <tr>\n",
       "      <th>0</th>\n",
       "      <td>2</td>\n",
       "      <td>0</td>\n",
       "      <td>2</td>\n",
       "      <td>2</td>\n",
       "    </tr>\n",
       "    <tr>\n",
       "      <th>0</th>\n",
       "      <td>3</td>\n",
       "      <td>6</td>\n",
       "      <td>0</td>\n",
       "      <td>4</td>\n",
       "    </tr>\n",
       "    <tr>\n",
       "      <th>0</th>\n",
       "      <td>4</td>\n",
       "      <td>7</td>\n",
       "      <td>4</td>\n",
       "      <td>3</td>\n",
       "    </tr>\n",
       "  </tbody>\n",
       "</table>\n",
       "</div>"
      ],
      "text/plain": [
       "        time  feature_0  feature_1  feature_2\n",
       "series                                       \n",
       "0          0          4          8          0\n",
       "0          1          0          0          0\n",
       "0          2          0          2          2\n",
       "0          3          6          0          4\n",
       "0          4          7          4          3"
      ]
     },
     "execution_count": null,
     "metadata": {},
     "output_type": "execute_result"
    }
   ],
   "source": [
    "#| eval: False\n",
    "mock = MockTimeSeries(set_index=True)\n",
    "mock.df.head()"
   ]
  },
  {
   "cell_type": "code",
   "execution_count": null,
   "metadata": {},
   "outputs": [],
   "source": [
    "#| hide\n",
    "import nbdev; nbdev.nbdev_export()"
   ]
  }
 ],
 "metadata": {
  "kernelspec": {
   "display_name": "python3",
   "language": "python",
   "name": "python3"
  }
 },
 "nbformat": 4,
 "nbformat_minor": 4
}
