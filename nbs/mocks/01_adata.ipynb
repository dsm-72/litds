{
 "cells": [
  {
   "attachments": {},
   "cell_type": "markdown",
   "metadata": {},
   "source": [
    "# Dataset Mocks\n",
    "\n",
    "> mocks for dataset"
   ]
  },
  {
   "cell_type": "code",
   "execution_count": null,
   "metadata": {},
   "outputs": [],
   "source": [
    "#| default_exp mocks.adata"
   ]
  },
  {
   "cell_type": "code",
   "execution_count": null,
   "metadata": {},
   "outputs": [],
   "source": [
    "#| hide\n",
    "from nbdev.showdoc import *"
   ]
  },
  {
   "cell_type": "code",
   "execution_count": null,
   "metadata": {},
   "outputs": [],
   "source": [
    "#| export\n",
    "from dataclasses import dataclass, field, KW_ONLY\n",
    "from beartype.typing import Optional\n",
    "from beartype import beartype\n",
    "from litds.types import DataFrame\n",
    "\n",
    "import pandas as pd, numpy as np\n",
    "import anndata as ad"
   ]
  },
  {
   "cell_type": "code",
   "execution_count": null,
   "metadata": {},
   "outputs": [],
   "source": [
    "#| export\n",
    "from iza.static import TIME, SERIES, PHATE, BARCODE, CONDITION"
   ]
  },
  {
   "cell_type": "code",
   "execution_count": null,
   "metadata": {},
   "outputs": [],
   "source": [
    "#| export\n",
    "from litds.abc.mock.base import BaseMock"
   ]
  },
  {
   "attachments": {},
   "cell_type": "markdown",
   "metadata": {},
   "source": [
    "## Mock"
   ]
  },
  {
   "attachments": {},
   "cell_type": "markdown",
   "metadata": {},
   "source": [
    "### AnnData"
   ]
  },
  {
   "cell_type": "code",
   "execution_count": null,
   "metadata": {},
   "outputs": [],
   "source": [
    "#| export\n",
    "@dataclass\n",
    "class MockSingleCell(BaseMock):\n",
    "    label_col: Optional[str] = BARCODE\n",
    "    condition_col: Optional[str] = CONDITION\n",
    "    norm_str: Optional[str] = 'magic'\n",
    "    \n",
    "    n_genes: Optional[int] = 100\n",
    "    n_points: Optional[int] = 1000\n",
    "    emb_name: Optional[str] = PHATE\n",
    "    emb_dims: Optional[int] = 3\n",
    "    n_conditions: Optional[int] = 4\n",
    "    hvg_ratio: Optional[int] = 5\n",
    "\n",
    "    _: KW_ONLY\n",
    "    \n",
    "    seed: Optional[int] = 3\n",
    "    set_index: Optional[bool] = False\n",
    "\n",
    "    def setup(self) -> DataFrame:\n",
    "        return self.adata\n",
    "\n",
    "    def __post_init__(self):\n",
    "        np.random.seed(self.seed)\n",
    "        adata = self.setup()\n",
    "        self.adata = adata\n",
    "        \n",
    "    \n",
    "    @property\n",
    "    def emb_cols(self):\n",
    "        return self.make_col_names(self.emb_dims, prefix=f'{self.emb_name}_')\n",
    "        \n",
    "    @property\n",
    "    def gene_symbols(self):\n",
    "        try:\n",
    "            return self._gene_symbols\n",
    "        \n",
    "        except AttributeError:\n",
    "            _str = 'gene_symbol'\n",
    "            name = f'{_str}s'\n",
    "            func = lambda i: f'{_str} {i}'\n",
    "            series = pd.Series(np.arange(self.n_genes), name=name).map(func)            \n",
    "            self._gene_symbols = series\n",
    "        return self._gene_symbols\n",
    "    \n",
    "    @property\n",
    "    def is_hvg_gene(self):\n",
    "        try:\n",
    "            return self._is_hvg\n",
    "        except AttributeError:\n",
    "            is_hvg = pd.Series(np.arange(self.n_genes), name='is_hvg').map(lambda i: i % self.hvg_ratio)\n",
    "            is_hvg.index = self.gene_symbols\n",
    "            self._is_hvg = is_hvg\n",
    "        return self._is_hvg\n",
    "    \n",
    "    @property\n",
    "    def labels(self) -> pd.Series:\n",
    "        try:\n",
    "            return self._labels\n",
    "        except AttributeError:\n",
    "            _str = self.label_col\n",
    "            name = f'{_str}s'\n",
    "            func = lambda i: f'{_str} {i}'\n",
    "            series = pd.Series(np.arange(self.n_points), name=name).map(func)\n",
    "            self._labels = series\n",
    "        return self._labels\n",
    "    \n",
    "\n",
    "    @property\n",
    "    def conditions(self) -> pd.Series:\n",
    "        try:\n",
    "            return self._conditions\n",
    "        except AttributeError:\n",
    "            _str = self.condition_col\n",
    "            name = f'{_str}s'\n",
    "            func = lambda i: f'{_str} {i % self.n_conditions}'\n",
    "            series = pd.Series(np.arange(self.n_points), name=name).map(func)\n",
    "            series.index = self.labels\n",
    "            self._conditions = series\n",
    "        return self._conditions\n",
    "    \n",
    "    @property\n",
    "    def df_emb(self) -> pd.DataFrame:\n",
    "        try:\n",
    "            return self._df_emb\n",
    "        except AttributeError:\n",
    "            df_emb = pd.DataFrame(\n",
    "                np.random.randn(self.n_points, self.emb_dims), \n",
    "                index=self.labels, columns=self.emb_cols\n",
    "            )\n",
    "            df_emb = df_emb.join(self.conditions)\n",
    "            self._df_emb = df_emb\n",
    "        return self._df_emb\n",
    "    \n",
    "\n",
    "    @property\n",
    "    def df_cnt(self) -> pd.DataFrame:\n",
    "        try:\n",
    "            return self._df_cnt\n",
    "        except AttributeError:\n",
    "            df_cnt = pd.DataFrame(\n",
    "                np.random.randn(self.n_points, self.n_genes), \n",
    "                index=self.labels, columns=self.gene_symbols\n",
    "            )\n",
    "            self._df_cnt = df_cnt\n",
    "        return self._df_cnt\n",
    "    \n",
    "\n",
    "    @property\n",
    "    def df_nrm(self) -> pd.DataFrame:\n",
    "        try:\n",
    "            return self._df_nrm\n",
    "        except AttributeError:\n",
    "            df_nrm = pd.DataFrame(\n",
    "                np.random.randn(self.n_points, self.n_genes), \n",
    "                index=self.labels, columns=self.gene_symbols\n",
    "            )\n",
    "            self._df_nrm = df_nrm\n",
    "        return self._df_nrm\n",
    "    \n",
    "    @property\n",
    "    def x_emb(self):\n",
    "        return f'X_{self.emb_name.lower()}'\n",
    "    \n",
    "    @property\n",
    "    def x_norm(self):\n",
    "        return f'X_{self.norm_str.lower()}'\n",
    "    \n",
    "    @property\n",
    "    def adata(self):\n",
    "        try:\n",
    "            return self._adata\n",
    "        \n",
    "        except AttributeError:\n",
    "            _str = self.label_col\n",
    "            label_name = f'{_str}s' # barcodes\n",
    "\n",
    "            _str = self.condition_col\n",
    "            conds_name = f'{_str}s' # conditions\n",
    "\n",
    "            obs = self.df_emb.reset_index()\n",
    "            obs = obs[[label_name, conds_name]].set_index(label_name, drop=False)\n",
    "\n",
    "            obsm = dict()\n",
    "            obsm[self.x_emb] = self.df_emb.drop(columns=conds_name)\n",
    "\n",
    "            layers = dict()\n",
    "            layers[self.x_norm] = self.df_nrm\n",
    "\n",
    "            adata = ad.AnnData(\n",
    "                X = self.df_cnt,\n",
    "                obs = obs,\n",
    "                var = pd.DataFrame(self.is_hvg_gene, index=self.gene_symbols),\n",
    "                obsm = obsm,\n",
    "                layers = layers,\n",
    "                dtype='float32'\n",
    "            )\n",
    "            \n",
    "            self._adata = adata\n",
    "\n",
    "        return self._adata\n",
    "    \n",
    "    @adata.setter\n",
    "    def adata(self, adata):\n",
    "        self._adata = adata\n",
    "        "
   ]
  },
  {
   "cell_type": "code",
   "execution_count": null,
   "metadata": {},
   "outputs": [
    {
     "data": {
      "text/plain": [
       "AnnData object with n_obs × n_vars = 1000 × 100\n",
       "    obs: 'barcodes', 'conditions'\n",
       "    var: 'is_hvg'\n",
       "    obsm: 'X_phate'\n",
       "    layers: 'X_magic'"
      ]
     },
     "execution_count": null,
     "metadata": {},
     "output_type": "execute_result"
    }
   ],
   "source": [
    "#| eval: False\n",
    "mock = MockSingleCell()\n",
    "mock.adata"
   ]
  },
  {
   "cell_type": "code",
   "execution_count": null,
   "metadata": {},
   "outputs": [],
   "source": [
    "#| hide\n",
    "import nbdev; nbdev.nbdev_export()"
   ]
  }
 ],
 "metadata": {
  "kernelspec": {
   "display_name": "python3",
   "language": "python",
   "name": "python3"
  }
 },
 "nbformat": 4,
 "nbformat_minor": 4
}
